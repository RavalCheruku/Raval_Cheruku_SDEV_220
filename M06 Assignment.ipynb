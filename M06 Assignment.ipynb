{
 "cells": [
  {
   "cell_type": "code",
   "execution_count": null,
   "id": "83ccddfa-0f82-4c4a-974b-5262506c050a",
   "metadata": {},
   "outputs": [],
   "source": [
    "#Raval, April 29, Concurrency in Python\n",
    "#13.1\n",
    "import datetime\n",
    "\n",
    "current_date = datetime.datetime.now().strftime(\"%Y-%m-%d\")\n",
    "with open(\"today.txt\", \"w\") as file:\n",
    "    file.write(current_date)"
   ]
  },
  {
   "cell_type": "code",
   "execution_count": null,
   "id": "ccd55abd-00c7-400d-979d-aa751fd3136d",
   "metadata": {},
   "outputs": [],
   "source": [
    "#13.2\n",
    "with open(\"today.txt\", \"r\") as file:\n",
    "    today_string = file.read()"
   ]
  },
  {
   "cell_type": "code",
   "execution_count": null,
   "id": "4db21e0f-3e7e-460b-b105-c3b3e3495aa4",
   "metadata": {},
   "outputs": [],
   "source": [
    "#13.3\n",
    "parsed_date = datetime.datetime.strptime(today_string, \"%Y-%m-%d\")\n",
    "print(\"Parsed Date:\", parsed_date)"
   ]
  },
  {
   "cell_type": "code",
   "execution_count": null,
   "id": "d340e601-3761-4a50-b0ce-88e22435aba3",
   "metadata": {},
   "outputs": [],
   "source": [
    "#15.1\n",
    "import multiprocessing\n",
    "import time\n",
    "import datetime\n",
    "import random\n",
    "\n",
    "def print_current_time():\n",
    "    # Generating a random time to wait between 0 and 1 seconds\n",
    "    wait_time = random.random()\n",
    "    time.sleep(wait_time)  # Wait\n",
    "    current_time = datetime.datetime.now().strftime(\"%Y-%m-%d %H:%M:%S\")\n",
    "    print(f\"Process {multiprocessing.current_process().name}: Current time is {current_time}\")\n",
    "\n",
    "if __name__ == '__main__':\n",
    "    # Creating three separate processes\n",
    "    processes = []\n",
    "    for i in range(3):\n",
    "        p = multiprocessing.Process(target=print_current_time, name=f\"Process-{i+1}\")\n",
    "        processes.append(p)\n",
    "        p.start()\n",
    "\n",
    "    # Waiting for all the processes to finish\n",
    "    for p in processes:\n",
    "        p.join()\n"
   ]
  }
 ],
 "metadata": {
  "kernelspec": {
   "display_name": "Python 3 (ipykernel)",
   "language": "python",
   "name": "python3"
  },
  "language_info": {
   "codemirror_mode": {
    "name": "ipython",
    "version": 3
   },
   "file_extension": ".py",
   "mimetype": "text/x-python",
   "name": "python",
   "nbconvert_exporter": "python",
   "pygments_lexer": "ipython3",
   "version": "3.11.7"
  }
 },
 "nbformat": 4,
 "nbformat_minor": 5
}
