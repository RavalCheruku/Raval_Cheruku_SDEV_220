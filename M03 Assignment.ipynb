{
 "cells": [
  {
   "cell_type": "code",
   "execution_count": 8,
   "id": "623ac7ba-a157-41f7-b20f-8e08dd4fcb24",
   "metadata": {},
   "outputs": [
    {
     "data": {
      "text/plain": [
       "['mozzarella', 'cinderella', 'salmonella']"
      ]
     },
     "execution_count": 8,
     "metadata": {},
     "output_type": "execute_result"
    }
   ],
   "source": [
    "#Raval, April 6, Lists and Functions\n",
    "#7.4\n",
    "things = ['mozzarella','cinderella','salmonella']\n",
    "things"
   ]
  },
  {
   "cell_type": "code",
   "execution_count": 10,
   "id": "b5b9aa50-ecff-4cff-a5bc-585387cb2112",
   "metadata": {},
   "outputs": [
    {
     "data": {
      "text/plain": [
       "['mozzarella', 'Cinderella', 'salmonella']"
      ]
     },
     "execution_count": 10,
     "metadata": {},
     "output_type": "execute_result"
    }
   ],
   "source": [
    "#7.5\n",
    "things = ['mozzarella','cinderella'.title(),'salmonella']\n",
    "things\n",
    "#the element changed"
   ]
  },
  {
   "cell_type": "code",
   "execution_count": 17,
   "id": "4325bcfb-2b96-4d2d-8a7a-8a801464712a",
   "metadata": {},
   "outputs": [
    {
     "data": {
      "text/plain": [
       "['MOZZARELLA', 'Cinderella', 'salmonella']"
      ]
     },
     "execution_count": 17,
     "metadata": {},
     "output_type": "execute_result"
    }
   ],
   "source": [
    "#7.6\n",
    "things = ['mozzarella'.upper(),'cinderella'.title(),'salmonella']\n",
    "things"
   ]
  },
  {
   "cell_type": "code",
   "execution_count": 18,
   "id": "babfdaed-60fc-454a-8589-33c090610da3",
   "metadata": {},
   "outputs": [
    {
     "data": {
      "text/plain": [
       "['mozzarella', 'Cinderella']"
      ]
     },
     "execution_count": 18,
     "metadata": {},
     "output_type": "execute_result"
    }
   ],
   "source": [
    "#7.7\n",
    "things = ['mozzarella','cinderella'.title(),'salmonella']\n",
    "things.remove('salmonella')\n",
    "things"
   ]
  },
  {
   "cell_type": "code",
   "execution_count": 31,
   "id": "ea7b86e8-8f82-44e4-9061-4e6dcc49e605",
   "metadata": {},
   "outputs": [
    {
     "data": {
      "text/plain": [
       "['Harry', 'Ron', 'Hermione']"
      ]
     },
     "execution_count": 31,
     "metadata": {},
     "output_type": "execute_result"
    }
   ],
   "source": [
    "#9.1\n",
    "def good(list):\n",
    "    list = ['Harry','Ron','Hermione']\n",
    "    return list\n",
    "good(list)"
   ]
  },
  {
   "cell_type": "code",
   "execution_count": 40,
   "id": "5824dacb-5779-404d-8461-7c4915bb5f2e",
   "metadata": {},
   "outputs": [
    {
     "name": "stdout",
     "output_type": "stream",
     "text": [
      "The third number is 5\n"
     ]
    }
   ],
   "source": [
    "#9.2\n",
    "def get_odds():\n",
    "    for num in range(1,10,2):\n",
    "        yield num\n",
    "\n",
    "count=0\n",
    "for odd_num in get_odds():\n",
    "    count += 1\n",
    "    if count == 3:\n",
    "        print(\"The third number is\",odd_num)"
   ]
  },
  {
   "cell_type": "code",
   "execution_count": null,
   "id": "634cf1ef-b7e5-4cde-aa9f-c4cb70a506c2",
   "metadata": {},
   "outputs": [],
   "source": []
  }
 ],
 "metadata": {
  "kernelspec": {
   "display_name": "Python 3 (ipykernel)",
   "language": "python",
   "name": "python3"
  },
  "language_info": {
   "codemirror_mode": {
    "name": "ipython",
    "version": 3
   },
   "file_extension": ".py",
   "mimetype": "text/x-python",
   "name": "python",
   "nbconvert_exporter": "python",
   "pygments_lexer": "ipython3",
   "version": "3.11.7"
  }
 },
 "nbformat": 4,
 "nbformat_minor": 5
}
