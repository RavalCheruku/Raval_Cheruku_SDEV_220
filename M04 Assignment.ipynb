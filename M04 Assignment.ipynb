{
 "cells": [
  {
   "cell_type": "code",
   "execution_count": null,
   "id": "a82b3181-049d-4b15-8931-1b9d4c218ca4",
   "metadata": {},
   "outputs": [],
   "source": [
    "#Raval, April 15, Modules and Databases\n",
    "#11.1\n",
    "#zoo.py\n",
    "def hours():\n",
    "    print('Open 9-5 daily')\n",
    "\n",
    "#python interpreter\n",
    ">>> import zoo\n",
    ">>> zoo.hours()\n",
    "Open 9-5 daily"
   ]
  },
  {
   "cell_type": "code",
   "execution_count": null,
   "id": "91a88c58-9ba5-454b-ba70-af829ef5ce08",
   "metadata": {},
   "outputs": [],
   "source": [
    "#11.2\n",
    "#python interpreter\n",
    ">>> import zoo as menagerie\n",
    ">>> menagerie.hours()"
   ]
  },
  {
   "cell_type": "code",
   "execution_count": null,
   "id": "0f87529b-afce-4ca2-ba7d-4a9e985ecfd5",
   "metadata": {},
   "outputs": [],
   "source": [
    "#16.8\n",
    "from sqlalchemy import create_engine, MetaData, Table\n",
    "engine = create_engine('sqlite:///books.db')\n",
    "metadata = MetaData()\n",
    "metadata.reflect(bind=engine)\n",
    "book_table = metadata.tables['book']\n",
    "query = book_table.select().order_by(book_table.c.title)\n",
    "with engine.connect() as connection:\n",
    "    result = connection.execute(query)\n",
    "    for row in result:\n",
    "        print(row['title'])"
   ]
  }
 ],
 "metadata": {
  "kernelspec": {
   "display_name": "Python 3 (ipykernel)",
   "language": "python",
   "name": "python3"
  },
  "language_info": {
   "codemirror_mode": {
    "name": "ipython",
    "version": 3
   },
   "file_extension": ".py",
   "mimetype": "text/x-python",
   "name": "python",
   "nbconvert_exporter": "python",
   "pygments_lexer": "ipython3",
   "version": "3.11.7"
  }
 },
 "nbformat": 4,
 "nbformat_minor": 5
}
