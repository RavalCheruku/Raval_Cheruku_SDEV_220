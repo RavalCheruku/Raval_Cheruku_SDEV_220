{
 "cells": [
  {
   "cell_type": "code",
   "execution_count": null,
   "id": "836ee499-b3a2-4eea-a3fc-aa872f6907e5",
   "metadata": {},
   "outputs": [],
   "source": [
    "#Raval Cheruku, 25 March 2024, Numbers and Types"
   ]
  },
  {
   "cell_type": "code",
   "execution_count": 6,
   "id": "7f0761a3-1467-4daa-8723-d46b46fa61db",
   "metadata": {},
   "outputs": [
    {
     "name": "stdout",
     "output_type": "stream",
     "text": [
      "3600\n"
     ]
    }
   ],
   "source": [
    "#3.1\n",
    "print (60*60)\n"
   ]
  },
  {
   "cell_type": "code",
   "execution_count": 7,
   "id": "d5625bc3-42da-46fb-9607-00a487d1e749",
   "metadata": {},
   "outputs": [],
   "source": [
    "#3.2\n",
    "seconds_per_hour= 60*60"
   ]
  },
  {
   "cell_type": "code",
   "execution_count": 13,
   "id": "d2a451ad-dd61-4faa-8e48-6b0c8e16d709",
   "metadata": {},
   "outputs": [
    {
     "name": "stdout",
     "output_type": "stream",
     "text": [
      "86400\n"
     ]
    }
   ],
   "source": [
    "#3.3\n",
    "print (seconds_per_hour*24)"
   ]
  },
  {
   "cell_type": "code",
   "execution_count": 14,
   "id": "0f400b70-e160-4e59-97d5-02704496a109",
   "metadata": {},
   "outputs": [
    {
     "name": "stdout",
     "output_type": "stream",
     "text": [
      "86400\n"
     ]
    }
   ],
   "source": [
    "#3.4\n",
    "seconds_per_day=seconds_per_hour*24\n",
    "print(seconds_per_day)"
   ]
  },
  {
   "cell_type": "code",
   "execution_count": 15,
   "id": "34bc80ce-1969-4364-83d8-0314e7f60edf",
   "metadata": {},
   "outputs": [
    {
     "name": "stdout",
     "output_type": "stream",
     "text": [
      "24.0\n"
     ]
    }
   ],
   "source": [
    "#3.5\n",
    "print(seconds_per_day/seconds_per_hour)"
   ]
  },
  {
   "cell_type": "code",
   "execution_count": 16,
   "id": "73825e4d-1578-47f8-ba28-e682e0c81ae0",
   "metadata": {},
   "outputs": [
    {
     "name": "stdout",
     "output_type": "stream",
     "text": [
      "24\n"
     ]
    }
   ],
   "source": [
    "#3.6\n",
    "print(seconds_per_day//seconds_per_hour)"
   ]
  }
 ],
 "metadata": {
  "kernelspec": {
   "display_name": "Python 3 (ipykernel)",
   "language": "python",
   "name": "python3"
  },
  "language_info": {
   "codemirror_mode": {
    "name": "ipython",
    "version": 3
   },
   "file_extension": ".py",
   "mimetype": "text/x-python",
   "name": "python",
   "nbconvert_exporter": "python",
   "pygments_lexer": "ipython3",
   "version": "3.11.7"
  }
 },
 "nbformat": 4,
 "nbformat_minor": 5
}
