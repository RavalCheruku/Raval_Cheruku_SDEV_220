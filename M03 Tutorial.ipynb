{
 "cells": [
  {
   "cell_type": "code",
   "execution_count": 1,
   "id": "2002ea50-0d32-49c7-a6a5-c3942d7ba734",
   "metadata": {},
   "outputs": [],
   "source": [
    "#Code for sorting an array\n",
    "class Solution:\n",
    "    def sort012(self,arr,n):\n",
    "        low=0\n",
    "        high=n-1\n",
    "        mid=0\n",
    "        while mid<=high:\n",
    "            if arr[mid]==0:\n",
    "                arr[mid] , arr[low] = arr[low] , arr[mid]\n",
    "                mid+=1\n",
    "                low+=1\n",
    "            elif arr[mid]==1:\n",
    "                mid+=1\n",
    "            else:\n",
    "                arr[mid] , arr[high] = arr[high] , arr[mid]\n",
    "                high-=1"
   ]
  },
  {
   "cell_type": "code",
   "execution_count": null,
   "id": "1e7476fa-92c2-4971-8321-98f037a3c764",
   "metadata": {},
   "outputs": [],
   "source": [
    "#Code for binary search\n",
    "def binarySearch(arr, l, r, x):\n",
    "    if r >= l:\n",
    "        mid = l + (r - l) // 2\n",
    "        if arr[mid] == x:\n",
    "            return mid\n",
    "        elif arr[mid] > x:\n",
    "            return binarySearch(arr, l, mid-1, x)\n",
    "        else:\n",
    "            return binarySearch(arr, mid + 1, r, x)\n",
    "    else:\n",
    "        return -1\n",
    "arr = [2, 3, 4, 10, 40]\n",
    "x = 10\n",
    "result = binarySearch(arr, 0, len(arr)-1, x)\n",
    "if result != -1:\n",
    "    print(\"Element is present at index % d\" % result)\n",
    "else:\n",
    "    print(\"Element is not present in array\")\n"
   ]
  }
 ],
 "metadata": {
  "kernelspec": {
   "display_name": "Python 3 (ipykernel)",
   "language": "python",
   "name": "python3"
  },
  "language_info": {
   "codemirror_mode": {
    "name": "ipython",
    "version": 3
   },
   "file_extension": ".py",
   "mimetype": "text/x-python",
   "name": "python",
   "nbconvert_exporter": "python",
   "pygments_lexer": "ipython3",
   "version": "3.11.7"
  }
 },
 "nbformat": 4,
 "nbformat_minor": 5
}
